{
 "cells": [
  {
   "cell_type": "markdown",
   "metadata": {},
   "source": [
    "# Assignment-2 (CVL-100)\n",
    "\n",
    "###  Hourly, Monthly and Seasonal trends of PM2.5 and PM10"
   ]
  },
  {
   "cell_type": "code",
   "execution_count": 80,
   "metadata": {},
   "outputs": [],
   "source": [
    "import os\n",
    "import pandas as pd\n",
    "import numpy as np\n",
    "import matplotlib.pyplot as plt\n",
    "import matplotlib.ticker as ticker\n",
    "import plotly\n",
    "import seaborn as sns\n",
    "import re\n",
    "import random\n",
    "%matplotlib inline\n",
    "from plotly import graph_objs as go\n",
    "import plotly.express as px\n",
    "import plotly.figure_factory as ff\n",
    "from collections import Counter\n",
    "from PIL import Image"
   ]
  },
  {
   "cell_type": "code",
   "execution_count": 36,
   "metadata": {},
   "outputs": [],
   "source": [
    "df = pd.read_excel(\"A2_G4.ods\", engine=\"odf\")"
   ]
  },
  {
   "cell_type": "code",
   "execution_count": 37,
   "metadata": {},
   "outputs": [
    {
     "data": {
      "text/html": [
       "<div>\n",
       "<style scoped>\n",
       "    .dataframe tbody tr th:only-of-type {\n",
       "        vertical-align: middle;\n",
       "    }\n",
       "\n",
       "    .dataframe tbody tr th {\n",
       "        vertical-align: top;\n",
       "    }\n",
       "\n",
       "    .dataframe thead th {\n",
       "        text-align: right;\n",
       "    }\n",
       "</style>\n",
       "<table border=\"1\" class=\"dataframe\">\n",
       "  <thead>\n",
       "    <tr style=\"text-align: right;\">\n",
       "      <th></th>\n",
       "      <th>Anand Vihar, Delhi - DPCC</th>\n",
       "      <th>Unnamed: 1</th>\n",
       "      <th>Unnamed: 2</th>\n",
       "      <th>Unnamed: 3</th>\n",
       "    </tr>\n",
       "  </thead>\n",
       "  <tbody>\n",
       "    <tr>\n",
       "      <th>0</th>\n",
       "      <td>Prescribed Standards</td>\n",
       "      <td>NaN</td>\n",
       "      <td>0-60</td>\n",
       "      <td>0-100</td>\n",
       "    </tr>\n",
       "    <tr>\n",
       "      <th>1</th>\n",
       "      <td>Exceeding Standards</td>\n",
       "      <td>NaN</td>\n",
       "      <td>NaN</td>\n",
       "      <td>NaN</td>\n",
       "    </tr>\n",
       "    <tr>\n",
       "      <th>2</th>\n",
       "      <td>Remarks</td>\n",
       "      <td>NaN</td>\n",
       "      <td>NaN</td>\n",
       "      <td>NaN</td>\n",
       "    </tr>\n",
       "    <tr>\n",
       "      <th>3</th>\n",
       "      <td>From Date</td>\n",
       "      <td>To Date</td>\n",
       "      <td>PM2.5</td>\n",
       "      <td>PM10</td>\n",
       "    </tr>\n",
       "    <tr>\n",
       "      <th>4</th>\n",
       "      <td>01-01-2019 00:00</td>\n",
       "      <td>01-01-2019 01:00</td>\n",
       "      <td>517.25</td>\n",
       "      <td>950</td>\n",
       "    </tr>\n",
       "    <tr>\n",
       "      <th>...</th>\n",
       "      <td>...</td>\n",
       "      <td>...</td>\n",
       "      <td>...</td>\n",
       "      <td>...</td>\n",
       "    </tr>\n",
       "    <tr>\n",
       "      <th>8759</th>\n",
       "      <td>31-12-2019 19:00</td>\n",
       "      <td>31-12-2019 20:00</td>\n",
       "      <td>416.5</td>\n",
       "      <td>704.5</td>\n",
       "    </tr>\n",
       "    <tr>\n",
       "      <th>8760</th>\n",
       "      <td>31-12-2019 20:00</td>\n",
       "      <td>31-12-2019 21:00</td>\n",
       "      <td>549.5</td>\n",
       "      <td>847.25</td>\n",
       "    </tr>\n",
       "    <tr>\n",
       "      <th>8761</th>\n",
       "      <td>31-12-2019 21:00</td>\n",
       "      <td>31-12-2019 22:00</td>\n",
       "      <td>657.25</td>\n",
       "      <td>920</td>\n",
       "    </tr>\n",
       "    <tr>\n",
       "      <th>8762</th>\n",
       "      <td>31-12-2019 22:00</td>\n",
       "      <td>31-12-2019 23:00</td>\n",
       "      <td>808.5</td>\n",
       "      <td>None</td>\n",
       "    </tr>\n",
       "    <tr>\n",
       "      <th>8763</th>\n",
       "      <td>31-12-2019 23:00</td>\n",
       "      <td>2020-01-01 00:00:00</td>\n",
       "      <td>939.75</td>\n",
       "      <td>None</td>\n",
       "    </tr>\n",
       "  </tbody>\n",
       "</table>\n",
       "<p>8764 rows × 4 columns</p>\n",
       "</div>"
      ],
      "text/plain": [
       "     Anand Vihar, Delhi - DPCC           Unnamed: 1 Unnamed: 2 Unnamed: 3\n",
       "0         Prescribed Standards                  NaN       0-60      0-100\n",
       "1          Exceeding Standards                  NaN        NaN        NaN\n",
       "2                      Remarks                  NaN        NaN        NaN\n",
       "3                    From Date              To Date      PM2.5       PM10\n",
       "4             01-01-2019 00:00     01-01-2019 01:00     517.25        950\n",
       "...                        ...                  ...        ...        ...\n",
       "8759          31-12-2019 19:00     31-12-2019 20:00      416.5      704.5\n",
       "8760          31-12-2019 20:00     31-12-2019 21:00      549.5     847.25\n",
       "8761          31-12-2019 21:00     31-12-2019 22:00     657.25        920\n",
       "8762          31-12-2019 22:00     31-12-2019 23:00      808.5       None\n",
       "8763          31-12-2019 23:00  2020-01-01 00:00:00     939.75       None\n",
       "\n",
       "[8764 rows x 4 columns]"
      ]
     },
     "execution_count": 37,
     "metadata": {},
     "output_type": "execute_result"
    }
   ],
   "source": [
    "df"
   ]
  },
  {
   "cell_type": "code",
   "execution_count": 38,
   "metadata": {},
   "outputs": [
    {
     "data": {
      "text/html": [
       "<div>\n",
       "<style scoped>\n",
       "    .dataframe tbody tr th:only-of-type {\n",
       "        vertical-align: middle;\n",
       "    }\n",
       "\n",
       "    .dataframe tbody tr th {\n",
       "        vertical-align: top;\n",
       "    }\n",
       "\n",
       "    .dataframe thead th {\n",
       "        text-align: right;\n",
       "    }\n",
       "</style>\n",
       "<table border=\"1\" class=\"dataframe\">\n",
       "  <thead>\n",
       "    <tr style=\"text-align: right;\">\n",
       "      <th></th>\n",
       "      <th>Anand Vihar, Delhi - DPCC</th>\n",
       "      <th>Unnamed: 1</th>\n",
       "      <th>Unnamed: 2</th>\n",
       "      <th>Unnamed: 3</th>\n",
       "    </tr>\n",
       "  </thead>\n",
       "  <tbody>\n",
       "    <tr>\n",
       "      <th>count</th>\n",
       "      <td>8764</td>\n",
       "      <td>8761</td>\n",
       "      <td>8762</td>\n",
       "      <td>8762</td>\n",
       "    </tr>\n",
       "    <tr>\n",
       "      <th>unique</th>\n",
       "      <td>8764</td>\n",
       "      <td>8761</td>\n",
       "      <td>1687</td>\n",
       "      <td>2485</td>\n",
       "    </tr>\n",
       "    <tr>\n",
       "      <th>top</th>\n",
       "      <td>27-12-2019 18:00</td>\n",
       "      <td>27-12-2019 18:00</td>\n",
       "      <td>None</td>\n",
       "      <td>None</td>\n",
       "    </tr>\n",
       "    <tr>\n",
       "      <th>freq</th>\n",
       "      <td>1</td>\n",
       "      <td>1</td>\n",
       "      <td>352</td>\n",
       "      <td>597</td>\n",
       "    </tr>\n",
       "  </tbody>\n",
       "</table>\n",
       "</div>"
      ],
      "text/plain": [
       "       Anand Vihar, Delhi - DPCC        Unnamed: 1 Unnamed: 2 Unnamed: 3\n",
       "count                       8764              8761       8762       8762\n",
       "unique                      8764              8761       1687       2485\n",
       "top             27-12-2019 18:00  27-12-2019 18:00       None       None\n",
       "freq                           1                 1        352        597"
      ]
     },
     "execution_count": 38,
     "metadata": {},
     "output_type": "execute_result"
    }
   ],
   "source": [
    "df.describe()"
   ]
  },
  {
   "cell_type": "code",
   "execution_count": 39,
   "metadata": {},
   "outputs": [
    {
     "data": {
      "text/plain": [
       "'Anand Vihar, Delhi - DPCC'"
      ]
     },
     "execution_count": 39,
     "metadata": {},
     "output_type": "execute_result"
    }
   ],
   "source": [
    "location = df.columns[0]\n",
    "location"
   ]
  },
  {
   "cell_type": "code",
   "execution_count": 40,
   "metadata": {},
   "outputs": [],
   "source": [
    "cols=[]\n",
    "Prescribed_Standards = {\"PM2.5:60\",\"PM10:100\"}\n",
    "for i in df.loc[3]:\n",
    "    cols.append(i)\n",
    "df.columns = cols\n",
    "df.drop([2], inplace=True)\n",
    "# print(cols)\n",
    "# print(Prescribed_Standards)"
   ]
  },
  {
   "cell_type": "code",
   "execution_count": 41,
   "metadata": {},
   "outputs": [
    {
     "data": {
      "text/html": [
       "<div>\n",
       "<style scoped>\n",
       "    .dataframe tbody tr th:only-of-type {\n",
       "        vertical-align: middle;\n",
       "    }\n",
       "\n",
       "    .dataframe tbody tr th {\n",
       "        vertical-align: top;\n",
       "    }\n",
       "\n",
       "    .dataframe thead th {\n",
       "        text-align: right;\n",
       "    }\n",
       "</style>\n",
       "<table border=\"1\" class=\"dataframe\">\n",
       "  <thead>\n",
       "    <tr style=\"text-align: right;\">\n",
       "      <th></th>\n",
       "      <th>From Date</th>\n",
       "      <th>To Date</th>\n",
       "      <th>PM2.5</th>\n",
       "      <th>PM10</th>\n",
       "    </tr>\n",
       "  </thead>\n",
       "  <tbody>\n",
       "    <tr>\n",
       "      <th>0</th>\n",
       "      <td>Prescribed Standards</td>\n",
       "      <td>NaN</td>\n",
       "      <td>0-60</td>\n",
       "      <td>0-100</td>\n",
       "    </tr>\n",
       "    <tr>\n",
       "      <th>1</th>\n",
       "      <td>Exceeding Standards</td>\n",
       "      <td>NaN</td>\n",
       "      <td>NaN</td>\n",
       "      <td>NaN</td>\n",
       "    </tr>\n",
       "    <tr>\n",
       "      <th>3</th>\n",
       "      <td>From Date</td>\n",
       "      <td>To Date</td>\n",
       "      <td>PM2.5</td>\n",
       "      <td>PM10</td>\n",
       "    </tr>\n",
       "    <tr>\n",
       "      <th>4</th>\n",
       "      <td>01-01-2019 00:00</td>\n",
       "      <td>01-01-2019 01:00</td>\n",
       "      <td>517.25</td>\n",
       "      <td>950</td>\n",
       "    </tr>\n",
       "    <tr>\n",
       "      <th>5</th>\n",
       "      <td>01-01-2019 01:00</td>\n",
       "      <td>01-01-2019 02:00</td>\n",
       "      <td>531.25</td>\n",
       "      <td>939</td>\n",
       "    </tr>\n",
       "    <tr>\n",
       "      <th>...</th>\n",
       "      <td>...</td>\n",
       "      <td>...</td>\n",
       "      <td>...</td>\n",
       "      <td>...</td>\n",
       "    </tr>\n",
       "    <tr>\n",
       "      <th>8759</th>\n",
       "      <td>31-12-2019 19:00</td>\n",
       "      <td>31-12-2019 20:00</td>\n",
       "      <td>416.5</td>\n",
       "      <td>704.5</td>\n",
       "    </tr>\n",
       "    <tr>\n",
       "      <th>8760</th>\n",
       "      <td>31-12-2019 20:00</td>\n",
       "      <td>31-12-2019 21:00</td>\n",
       "      <td>549.5</td>\n",
       "      <td>847.25</td>\n",
       "    </tr>\n",
       "    <tr>\n",
       "      <th>8761</th>\n",
       "      <td>31-12-2019 21:00</td>\n",
       "      <td>31-12-2019 22:00</td>\n",
       "      <td>657.25</td>\n",
       "      <td>920</td>\n",
       "    </tr>\n",
       "    <tr>\n",
       "      <th>8762</th>\n",
       "      <td>31-12-2019 22:00</td>\n",
       "      <td>31-12-2019 23:00</td>\n",
       "      <td>808.5</td>\n",
       "      <td>None</td>\n",
       "    </tr>\n",
       "    <tr>\n",
       "      <th>8763</th>\n",
       "      <td>31-12-2019 23:00</td>\n",
       "      <td>2020-01-01 00:00:00</td>\n",
       "      <td>939.75</td>\n",
       "      <td>None</td>\n",
       "    </tr>\n",
       "  </tbody>\n",
       "</table>\n",
       "<p>8763 rows × 4 columns</p>\n",
       "</div>"
      ],
      "text/plain": [
       "                 From Date              To Date   PM2.5    PM10\n",
       "0     Prescribed Standards                  NaN    0-60   0-100\n",
       "1      Exceeding Standards                  NaN     NaN     NaN\n",
       "3                From Date              To Date   PM2.5    PM10\n",
       "4         01-01-2019 00:00     01-01-2019 01:00  517.25     950\n",
       "5         01-01-2019 01:00     01-01-2019 02:00  531.25     939\n",
       "...                    ...                  ...     ...     ...\n",
       "8759      31-12-2019 19:00     31-12-2019 20:00   416.5   704.5\n",
       "8760      31-12-2019 20:00     31-12-2019 21:00   549.5  847.25\n",
       "8761      31-12-2019 21:00     31-12-2019 22:00  657.25     920\n",
       "8762      31-12-2019 22:00     31-12-2019 23:00   808.5    None\n",
       "8763      31-12-2019 23:00  2020-01-01 00:00:00  939.75    None\n",
       "\n",
       "[8763 rows x 4 columns]"
      ]
     },
     "execution_count": 41,
     "metadata": {},
     "output_type": "execute_result"
    }
   ],
   "source": [
    "df"
   ]
  },
  {
   "cell_type": "code",
   "execution_count": 42,
   "metadata": {},
   "outputs": [
    {
     "data": {
      "text/html": [
       "<div>\n",
       "<style scoped>\n",
       "    .dataframe tbody tr th:only-of-type {\n",
       "        vertical-align: middle;\n",
       "    }\n",
       "\n",
       "    .dataframe tbody tr th {\n",
       "        vertical-align: top;\n",
       "    }\n",
       "\n",
       "    .dataframe thead th {\n",
       "        text-align: right;\n",
       "    }\n",
       "</style>\n",
       "<table border=\"1\" class=\"dataframe\">\n",
       "  <thead>\n",
       "    <tr style=\"text-align: right;\">\n",
       "      <th></th>\n",
       "      <th>From Date</th>\n",
       "      <th>To Date</th>\n",
       "      <th>PM2.5</th>\n",
       "      <th>PM10</th>\n",
       "    </tr>\n",
       "  </thead>\n",
       "  <tbody>\n",
       "    <tr>\n",
       "      <th>0</th>\n",
       "      <td>01-01-2019 00:00</td>\n",
       "      <td>01-01-2019 01:00</td>\n",
       "      <td>517.25</td>\n",
       "      <td>950</td>\n",
       "    </tr>\n",
       "    <tr>\n",
       "      <th>1</th>\n",
       "      <td>01-01-2019 01:00</td>\n",
       "      <td>01-01-2019 02:00</td>\n",
       "      <td>531.25</td>\n",
       "      <td>939</td>\n",
       "    </tr>\n",
       "    <tr>\n",
       "      <th>2</th>\n",
       "      <td>01-01-2019 02:00</td>\n",
       "      <td>01-01-2019 03:00</td>\n",
       "      <td>542</td>\n",
       "      <td>797.25</td>\n",
       "    </tr>\n",
       "    <tr>\n",
       "      <th>3</th>\n",
       "      <td>01-01-2019 03:00</td>\n",
       "      <td>01-01-2019 04:00</td>\n",
       "      <td>547.5</td>\n",
       "      <td>526.25</td>\n",
       "    </tr>\n",
       "    <tr>\n",
       "      <th>4</th>\n",
       "      <td>01-01-2019 04:00</td>\n",
       "      <td>01-01-2019 05:00</td>\n",
       "      <td>497</td>\n",
       "      <td>776.25</td>\n",
       "    </tr>\n",
       "    <tr>\n",
       "      <th>...</th>\n",
       "      <td>...</td>\n",
       "      <td>...</td>\n",
       "      <td>...</td>\n",
       "      <td>...</td>\n",
       "    </tr>\n",
       "    <tr>\n",
       "      <th>8755</th>\n",
       "      <td>31-12-2019 19:00</td>\n",
       "      <td>31-12-2019 20:00</td>\n",
       "      <td>416.5</td>\n",
       "      <td>704.5</td>\n",
       "    </tr>\n",
       "    <tr>\n",
       "      <th>8756</th>\n",
       "      <td>31-12-2019 20:00</td>\n",
       "      <td>31-12-2019 21:00</td>\n",
       "      <td>549.5</td>\n",
       "      <td>847.25</td>\n",
       "    </tr>\n",
       "    <tr>\n",
       "      <th>8757</th>\n",
       "      <td>31-12-2019 21:00</td>\n",
       "      <td>31-12-2019 22:00</td>\n",
       "      <td>657.25</td>\n",
       "      <td>920</td>\n",
       "    </tr>\n",
       "    <tr>\n",
       "      <th>8758</th>\n",
       "      <td>31-12-2019 22:00</td>\n",
       "      <td>31-12-2019 23:00</td>\n",
       "      <td>808.5</td>\n",
       "      <td>None</td>\n",
       "    </tr>\n",
       "    <tr>\n",
       "      <th>8759</th>\n",
       "      <td>31-12-2019 23:00</td>\n",
       "      <td>2020-01-01 00:00:00</td>\n",
       "      <td>939.75</td>\n",
       "      <td>None</td>\n",
       "    </tr>\n",
       "  </tbody>\n",
       "</table>\n",
       "<p>8760 rows × 4 columns</p>\n",
       "</div>"
      ],
      "text/plain": [
       "             From Date              To Date   PM2.5    PM10\n",
       "0     01-01-2019 00:00     01-01-2019 01:00  517.25     950\n",
       "1     01-01-2019 01:00     01-01-2019 02:00  531.25     939\n",
       "2     01-01-2019 02:00     01-01-2019 03:00     542  797.25\n",
       "3     01-01-2019 03:00     01-01-2019 04:00   547.5  526.25\n",
       "4     01-01-2019 04:00     01-01-2019 05:00     497  776.25\n",
       "...                ...                  ...     ...     ...\n",
       "8755  31-12-2019 19:00     31-12-2019 20:00   416.5   704.5\n",
       "8756  31-12-2019 20:00     31-12-2019 21:00   549.5  847.25\n",
       "8757  31-12-2019 21:00     31-12-2019 22:00  657.25     920\n",
       "8758  31-12-2019 22:00     31-12-2019 23:00   808.5    None\n",
       "8759  31-12-2019 23:00  2020-01-01 00:00:00  939.75    None\n",
       "\n",
       "[8760 rows x 4 columns]"
      ]
     },
     "execution_count": 42,
     "metadata": {},
     "output_type": "execute_result"
    }
   ],
   "source": [
    "df.drop([0,1,3], inplace=True)\n",
    "df.reset_index(inplace=True)\n",
    "df.drop(\"index\",1,inplace=True)\n",
    "df"
   ]
  },
  {
   "cell_type": "code",
   "execution_count": 43,
   "metadata": {},
   "outputs": [
    {
     "data": {
      "text/html": [
       "<div>\n",
       "<style scoped>\n",
       "    .dataframe tbody tr th:only-of-type {\n",
       "        vertical-align: middle;\n",
       "    }\n",
       "\n",
       "    .dataframe tbody tr th {\n",
       "        vertical-align: top;\n",
       "    }\n",
       "\n",
       "    .dataframe thead th {\n",
       "        text-align: right;\n",
       "    }\n",
       "</style>\n",
       "<table border=\"1\" class=\"dataframe\">\n",
       "  <thead>\n",
       "    <tr style=\"text-align: right;\">\n",
       "      <th></th>\n",
       "      <th>From Date</th>\n",
       "      <th>To Date</th>\n",
       "      <th>PM2.5</th>\n",
       "      <th>PM10</th>\n",
       "    </tr>\n",
       "  </thead>\n",
       "  <tbody>\n",
       "    <tr>\n",
       "      <th>0</th>\n",
       "      <td>01-01-2019 00:00</td>\n",
       "      <td>01-01-2019 01:00</td>\n",
       "      <td>517.25</td>\n",
       "      <td>950</td>\n",
       "    </tr>\n",
       "    <tr>\n",
       "      <th>1</th>\n",
       "      <td>01-01-2019 01:00</td>\n",
       "      <td>01-01-2019 02:00</td>\n",
       "      <td>531.25</td>\n",
       "      <td>939</td>\n",
       "    </tr>\n",
       "    <tr>\n",
       "      <th>2</th>\n",
       "      <td>01-01-2019 02:00</td>\n",
       "      <td>01-01-2019 03:00</td>\n",
       "      <td>542</td>\n",
       "      <td>797.25</td>\n",
       "    </tr>\n",
       "    <tr>\n",
       "      <th>3</th>\n",
       "      <td>01-01-2019 03:00</td>\n",
       "      <td>01-01-2019 04:00</td>\n",
       "      <td>547.5</td>\n",
       "      <td>526.25</td>\n",
       "    </tr>\n",
       "    <tr>\n",
       "      <th>4</th>\n",
       "      <td>01-01-2019 04:00</td>\n",
       "      <td>01-01-2019 05:00</td>\n",
       "      <td>497</td>\n",
       "      <td>776.25</td>\n",
       "    </tr>\n",
       "    <tr>\n",
       "      <th>...</th>\n",
       "      <td>...</td>\n",
       "      <td>...</td>\n",
       "      <td>...</td>\n",
       "      <td>...</td>\n",
       "    </tr>\n",
       "    <tr>\n",
       "      <th>8755</th>\n",
       "      <td>31-12-2019 19:00</td>\n",
       "      <td>31-12-2019 20:00</td>\n",
       "      <td>416.5</td>\n",
       "      <td>704.5</td>\n",
       "    </tr>\n",
       "    <tr>\n",
       "      <th>8756</th>\n",
       "      <td>31-12-2019 20:00</td>\n",
       "      <td>31-12-2019 21:00</td>\n",
       "      <td>549.5</td>\n",
       "      <td>847.25</td>\n",
       "    </tr>\n",
       "    <tr>\n",
       "      <th>8757</th>\n",
       "      <td>31-12-2019 21:00</td>\n",
       "      <td>31-12-2019 22:00</td>\n",
       "      <td>657.25</td>\n",
       "      <td>920</td>\n",
       "    </tr>\n",
       "    <tr>\n",
       "      <th>8758</th>\n",
       "      <td>31-12-2019 22:00</td>\n",
       "      <td>31-12-2019 23:00</td>\n",
       "      <td>808.5</td>\n",
       "      <td>None</td>\n",
       "    </tr>\n",
       "    <tr>\n",
       "      <th>8759</th>\n",
       "      <td>31-12-2019 23:00</td>\n",
       "      <td>2020-01-01 00:00:00</td>\n",
       "      <td>939.75</td>\n",
       "      <td>None</td>\n",
       "    </tr>\n",
       "  </tbody>\n",
       "</table>\n",
       "<p>8760 rows × 4 columns</p>\n",
       "</div>"
      ],
      "text/plain": [
       "             From Date              To Date   PM2.5    PM10\n",
       "0     01-01-2019 00:00     01-01-2019 01:00  517.25     950\n",
       "1     01-01-2019 01:00     01-01-2019 02:00  531.25     939\n",
       "2     01-01-2019 02:00     01-01-2019 03:00     542  797.25\n",
       "3     01-01-2019 03:00     01-01-2019 04:00   547.5  526.25\n",
       "4     01-01-2019 04:00     01-01-2019 05:00     497  776.25\n",
       "...                ...                  ...     ...     ...\n",
       "8755  31-12-2019 19:00     31-12-2019 20:00   416.5   704.5\n",
       "8756  31-12-2019 20:00     31-12-2019 21:00   549.5  847.25\n",
       "8757  31-12-2019 21:00     31-12-2019 22:00  657.25     920\n",
       "8758  31-12-2019 22:00     31-12-2019 23:00   808.5    None\n",
       "8759  31-12-2019 23:00  2020-01-01 00:00:00  939.75    None\n",
       "\n",
       "[8760 rows x 4 columns]"
      ]
     },
     "execution_count": 43,
     "metadata": {},
     "output_type": "execute_result"
    }
   ],
   "source": [
    "df"
   ]
  },
  {
   "cell_type": "markdown",
   "metadata": {},
   "source": [
    "# Hourly Trends of PM2.5 and PM10"
   ]
  },
  {
   "cell_type": "code",
   "execution_count": 141,
   "metadata": {},
   "outputs": [
    {
     "data": {
      "image/png": "[encoded data removed]",
      "text/plain": [
       "<Figure size 432x288 with 1 Axes>"
      ]
     },
     "metadata": {
      "needs_background": "light"
     },
     "output_type": "display_data"
    },
    {
     "data": {
      "image/png": "[encoded data removed]",
      "text/plain": [
       "<Figure size 432x288 with 1 Axes>"
      ]
     },
     "metadata": {
      "needs_background": "light"
     },
     "output_type": "display_data"
    }
   ],
   "source": [
    "pollutants = {\"PM2.5\":\"pm2_5\",\"PM10\":\"pm_10\"}\n",
    "for j in pollutants.keys():\n",
    "    hour = {\"00:00\":0,\"01:00\":0,\"02:00\":0,\"03:00\":0,\"04:00\":0,\"05:00\":0,\"06:00\":0,\"07:00\":0,\"08:00\":0,\"09:00\":0,\"10:00\":0,\"11:00\":0,\"12:00\":0,\"13:00\":0,\"14:00\":0,\"15:00\":0,\"16:00\":0,\"17:00\":0,\"18:00\":0,\"19:00\":0,\"20:00\":0,\"21:00\":0,\"22:00\":0,\"23:00\":0}\n",
    "    hour_cnt = {\"00:00\":0,\"01:00\":0,\"02:00\":0,\"03:00\":0,\"04:00\":0,\"05:00\":0,\"06:00\":0,\"07:00\":0,\"08:00\":0,\"09:00\":0,\"10:00\":0,\"11:00\":0,\"12:00\":0,\"13:00\":0,\"14:00\":0,\"15:00\":0,\"16:00\":0,\"17:00\":0,\"18:00\":0,\"19:00\":0,\"20:00\":0,\"21:00\":0,\"22:00\":0,\"23:00\":0}\n",
    "    x,cnt,min_val,max_val = 0,0,10000,-1\n",
    "    xpoints=[]    \n",
    "    for i in df.index:\n",
    "        if(type(df[j][i])==float):\n",
    "            hour[df[\"From Date\"][i].split(\" \")[1]] += df[j][i]\n",
    "            hour_cnt[df[\"From Date\"][i].split(\" \")[1]] += 1\n",
    "    for i in hour:\n",
    "        hour[i]/=hour_cnt[i]\n",
    "\n",
    "    ypoints = list(hour.values())\n",
    "    time = list(hour.keys())\n",
    "    for i in range(len(time)):\n",
    "        time[i] = int(time[i].split(\":\")[0])\n",
    "    plt.plot(time,ypoints)\n",
    "    plt.title(\"Location - \" + location)\n",
    "    plt.xticks(time)\n",
    "    plt.xlabel(\"Hour\",fontsize=16,labelpad=20)\n",
    "    plt.ylabel(j + \" Values\",fontsize=20,labelpad=20)\n",
    "    plt.show()"
   ]
  },
  {
   "cell_type": "markdown",
   "metadata": {},
   "source": [
    "# Monthly Trends of PM2.5 and PM10"
   ]
  },
  {
   "cell_type": "code",
   "execution_count": 142,
   "metadata": {},
   "outputs": [
    {
     "data": {
      "image/png": "[encoded data removed]",
      "text/plain": [
       "<Figure size 360x360 with 1 Axes>"
      ]
     },
     "metadata": {
      "needs_background": "light"
     },
     "output_type": "display_data"
    },
    {
     "data": {
      "image/png": "[encoded data removed]",
      "text/plain": [
       "<Figure size 360x360 with 1 Axes>"
      ]
     },
     "metadata": {
      "needs_background": "light"
     },
     "output_type": "display_data"
    }
   ],
   "source": [
    "def give_sum(l,month,month_cnt):\n",
    "    ans=0\n",
    "    cnt=0\n",
    "    for i in l:\n",
    "        ans+=(month[i][1]*month_cnt[i][1])\n",
    "        cnt+=month_cnt[i][1]\n",
    "    ans/=cnt\n",
    "    return ans    \n",
    "\n",
    "season_fin = {}\n",
    "\n",
    "for j in pollutants.keys():        \n",
    "    season = [[\"Winter\",0],[\"Pre-Monsoon\",0],[\"Monsoon\",0],[\"Post-Monsoon\",0]]\n",
    "    month = [[\"Jan\",0],[\"Feb\",0],[\"Mar\",0],[\"Apr\",0],[\"May\",0],[\"June\",0],[\"July\",0],[\"Aug\",0],[\"Sept\",0],[\"Oct\",0],[\"Nov\",0],[\"Dec\",0]]\n",
    "    month_cnt = [[\"Jan\",0],[\"Feb\",0],[\"Mar\",0],[\"Apr\",0],[\"May\",0],[\"June\",0],[\"July\",0],[\"Aug\",0],[\"Sept\",0],[\"Oct\",0],[\"Nov\",0],[\"Dec\",0]]\n",
    "    x,cnt,min_val,max_val = 0,0,10000,-1\n",
    "    xpoints=[]\n",
    "    for i in df.index:\n",
    "        if(type(df[j][i])==float):\n",
    "            month[int(df[\"From Date\"][i].split(\"-\")[1]) - 1][1] += df[j][i]\n",
    "            month_cnt[int(df[\"From Date\"][i].split(\"-\")[1]) - 1][1] += 1\n",
    "    ypoints=[]\n",
    "    time=[]\n",
    "    \n",
    "    for i in range(len(month)):\n",
    "        month[i][1]/=month_cnt[i][1]\n",
    "        ypoints.append(month[i][1])\n",
    "        time.append(month[i][0])\n",
    "    \n",
    "    season[0][1] = give_sum([11,0,1],month,month_cnt)\n",
    "    season[1][1] = give_sum([2,3,4],month,month_cnt)\n",
    "    season[2][1] = give_sum([5,6,7],month,month_cnt)\n",
    "    season[3][1] = give_sum([8,9,10],month,month_cnt)\n",
    "    season_fin[j] = season\n",
    "    \n",
    "    plt.figure(figsize=(5, 5))\n",
    "    plt.title(\"Location - \" + location)\n",
    "    plt.plot(time,ypoints)\n",
    "    plt.xticks(time)\n",
    "    plt.xlabel(\"Month\",fontsize=16,labelpad=20)\n",
    "    plt.ylabel(j + \" Values\",fontsize=20,labelpad=20)\n",
    "    plt.show()"
   ]
  },
  {
   "cell_type": "markdown",
   "metadata": {},
   "source": [
    "# Seasonal Trends of PM2.5 and PM10"
   ]
  },
  {
   "cell_type": "code",
   "execution_count": 143,
   "metadata": {},
   "outputs": [
    {
     "data": {
      "image/png": "[encoded data removed]",
      "text/plain": [
       "<Figure size 360x360 with 1 Axes>"
      ]
     },
     "metadata": {
      "needs_background": "light"
     },
     "output_type": "display_data"
    },
    {
     "data": {
      "image/png": "[encoded data removed]",
      "text/plain": [
       "<Figure size 360x360 with 1 Axes>"
      ]
     },
     "metadata": {
      "needs_background": "light"
     },
     "output_type": "display_data"
    }
   ],
   "source": [
    "for j in pollutants.keys():\n",
    "    season = season_fin[j]\n",
    "    ypoints=[]\n",
    "    time=[]\n",
    "    for i in range(len(season)):\n",
    "        ypoints.append(season[i][1])\n",
    "        time.append(season[i][0])\n",
    "        \n",
    "    plt.figure(figsize=(5, 5))\n",
    "    plt.plot(time,ypoints)\n",
    "    plt.xticks(time)\n",
    "    plt.title(\"Location - \" + location)\n",
    "    plt.xlabel(\"Season\",fontsize=16,labelpad=20)\n",
    "    plt.ylabel(j + \" Values\",fontsize=20,labelpad=20)\n",
    "    plt.show()"
   ]
  },
  {
   "cell_type": "code",
   "execution_count": null,
   "metadata": {},
   "outputs": [],
   "source": []
  }
 ],
 "metadata": {
  "kernelspec": {
   "display_name": "Python 3",
   "language": "python",
   "name": "python3"
  },
  "language_info": {
   "codemirror_mode": {
    "name": "ipython",
    "version": 3
   },
   "file_extension": ".py",
   "mimetype": "text/x-python",
   "name": "python",
   "nbconvert_exporter": "python",
   "pygments_lexer": "ipython3",
   "version": "3.7.6"
  }
 },
 "nbformat": 4,
 "nbformat_minor": 4
}
